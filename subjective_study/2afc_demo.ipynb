{
  "nbformat": 4,
  "nbformat_minor": 0,
  "metadata": {
    "colab": {
      "name": "2afc_demo.ipynb",
      "provenance": [],
      "collapsed_sections": []
    },
    "kernelspec": {
      "name": "python3",
      "display_name": "Python 3"
    },
    "language_info": {
      "name": "python"
    }
  },
  "cells": [
    {
      "cell_type": "code",
      "source": [
        "import os\n",
        "import cv2\n",
        "import csv\n",
        "import numpy as np"
      ],
      "metadata": {
        "id": "wHWXqavtTd0A"
      },
      "execution_count": 48,
      "outputs": []
    },
    {
      "cell_type": "markdown",
      "source": [
        "Download reference/compressed images"
      ],
      "metadata": {
        "id": "9cJeoOdcSiXI"
      }
    },
    {
      "cell_type": "code",
      "execution_count": 34,
      "metadata": {
        "id": "3QAVAx6GSXQp"
      },
      "outputs": [],
      "source": [
        "if not (os.path.exists(\"study_images_crop_all.zip\") or os.path.isdir(\"study_images_crop_all\")):\n",
        "  !wget -O study_images_crop_all.zip https://utexas.box.com/shared/static/izd3wopcohce7htgox0cb55v5netni7l.zip\n",
        "  !unzip study_images_crop_all.zip\n",
        "  !rm -r study_images_crop_all.zip __MACOSX"
      ]
    },
    {
      "cell_type": "markdown",
      "source": [
        "Download result csv file of subjective study"
      ],
      "metadata": {
        "id": "vufNxYVkSukx"
      }
    },
    {
      "cell_type": "code",
      "source": [
        "if not os.path.exists(\"study_results.csv\"):\n",
        "  !wget -O study_results.csv https://utexas.box.com/shared/static/5ywjy089mgg0v02qqy3mksvs9tt9e1mu.csv"
      ],
      "metadata": {
        "id": "8Y-Bn3rkSzS6"
      },
      "execution_count": 36,
      "outputs": []
    },
    {
      "cell_type": "markdown",
      "source": [
        "# Demo: 2AFC score of PSNR_rgb"
      ],
      "metadata": {
        "id": "74Lp1k_mVM0W"
      }
    },
    {
      "cell_type": "code",
      "source": [
        "IMG_PATH = './study_images_crop_all'\n",
        "psnr_rgb_2afc_all = []\n",
        "with open('study_results.csv') as csv_file:\n",
        "    reader = csv.DictReader(csv_file)\n",
        "    for row in reader:\n",
        "        # PSNR_rgb\n",
        "        img_ref  = cv2.imread(os.path.join(IMG_PATH, row['ref_name']))\n",
        "        img_base = cv2.imread(os.path.join(IMG_PATH, row['base_name']))\n",
        "        img_ours = cv2.imread(os.path.join(IMG_PATH, row['ours_name']))\n",
        "        psnr_base = cv2.PSNR(img_ref, img_base)\n",
        "        psnr_ours = cv2.PSNR(img_ref, img_ours)\n",
        "        # Human subject score\n",
        "        winrate_num = int(row['num_vote_ours'])\n",
        "        winrate_den = int(row['num_vote_ours']) + int(row['num_vote_base'])\n",
        "        assert winrate_den == 47\n",
        "        winrate = winrate_num / winrate_den\n",
        "        # 2AFC\n",
        "        score_2afc = winrate*(psnr_ours > psnr_base) + \\\n",
        "                     (1-winrate)*(1-(psnr_ours > psnr_base))\n",
        "        psnr_rgb_2afc_all.append(score_2afc)\n",
        "print(f\"2AFC score of PSNR_rgb is {np.mean(psnr_rgb_2afc_all)}\")\n"
      ],
      "metadata": {
        "colab": {
          "base_uri": "https://localhost:8080/"
        },
        "id": "BB6qwPg-VcNX",
        "outputId": "45b50c45-1c8f-4841-b53e-565c5689f003"
      },
      "execution_count": 52,
      "outputs": [
        {
          "output_type": "stream",
          "name": "stdout",
          "text": [
            "2AFC score of PSNR_rgb is 0.6127364066193853\n"
          ]
        }
      ]
    },
    {
      "cell_type": "markdown",
      "source": [
        "# Demo: 2AFC score of VIFp\n",
        "We used the pixel domain VIF implementation, which can be found here: https://live.ece.utexas.edu/research/Quality/VIF.htm"
      ],
      "metadata": {
        "id": "A7zhHfJVdUun"
      }
    },
    {
      "cell_type": "code",
      "source": [
        "IMG_PATH = './study_images_crop_all'\n",
        "vifp_2afc_all = []\n",
        "with open('study_results.csv') as csv_file:\n",
        "    reader = csv.DictReader(csv_file)\n",
        "    for row in reader:\n",
        "        # Pre-calculated VIFp scores read from csv \n",
        "        vifp_base = float(row['vifp_base'])\n",
        "        vifp_ours = float(row['vifp_ours'])\n",
        "        # Human subject score\n",
        "        winrate_num = int(row['num_vote_ours'])\n",
        "        winrate_den = int(row['num_vote_ours']) + int(row['num_vote_base'])\n",
        "        assert winrate_den == 47\n",
        "        winrate = winrate_num / winrate_den\n",
        "        # 2AFC\n",
        "        score_2afc = winrate*(vifp_ours > vifp_base) + \\\n",
        "                     (1-winrate)*(1-(vifp_ours > vifp_base))\n",
        "        vifp_2afc_all.append(score_2afc)\n",
        "\n",
        "print(f\"2AFC score of VIFp is {np.mean(vifp_2afc_all)}\")"
      ],
      "metadata": {
        "colab": {
          "base_uri": "https://localhost:8080/"
        },
        "id": "DFEeCQ8fdyA7",
        "outputId": "bbabee1e-a783-4d8f-eb29-22f407d4afea"
      },
      "execution_count": 53,
      "outputs": [
        {
          "output_type": "stream",
          "name": "stdout",
          "text": [
            "2AFC score of VIFp is 0.6589834515366431\n"
          ]
        }
      ]
    }
  ]
}